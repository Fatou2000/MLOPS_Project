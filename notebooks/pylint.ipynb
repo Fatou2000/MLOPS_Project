{
  "cells": [
    {
      "cell_type": "code",
      "execution_count": 1,
      "metadata": {
        "colab": {
          "base_uri": "https://localhost:8080/"
        },
        "id": "QArAQfWx8jmx",
        "outputId": "165c7b1a-f896-47be-8ab9-b8034b0db69c"
      },
      "outputs": [
        {
          "output_type": "stream",
          "name": "stdout",
          "text": [
            "Collecting pylint\n",
            "  Downloading pylint-3.2.6-py3-none-any.whl.metadata (12 kB)\n",
            "Requirement already satisfied: platformdirs>=2.2.0 in /usr/local/lib/python3.10/dist-packages (from pylint) (4.2.2)\n",
            "Collecting astroid<=3.3.0-dev0,>=3.2.4 (from pylint)\n",
            "  Downloading astroid-3.2.4-py3-none-any.whl.metadata (4.5 kB)\n",
            "Collecting isort!=5.13.0,<6,>=4.2.5 (from pylint)\n",
            "  Downloading isort-5.13.2-py3-none-any.whl.metadata (12 kB)\n",
            "Collecting mccabe<0.8,>=0.6 (from pylint)\n",
            "  Downloading mccabe-0.7.0-py2.py3-none-any.whl.metadata (5.0 kB)\n",
            "Requirement already satisfied: tomlkit>=0.10.1 in /usr/local/lib/python3.10/dist-packages (from pylint) (0.13.0)\n",
            "Collecting dill>=0.2 (from pylint)\n",
            "  Downloading dill-0.3.8-py3-none-any.whl.metadata (10 kB)\n",
            "Requirement already satisfied: tomli>=1.1.0 in /usr/local/lib/python3.10/dist-packages (from pylint) (2.0.1)\n",
            "Requirement already satisfied: typing-extensions>=4.0.0 in /usr/local/lib/python3.10/dist-packages (from astroid<=3.3.0-dev0,>=3.2.4->pylint) (4.12.2)\n",
            "Downloading pylint-3.2.6-py3-none-any.whl (519 kB)\n",
            "\u001b[2K   \u001b[90m━━━━━━━━━━━━━━━━━━━━━━━━━━━━━━━━━━━━━━━━\u001b[0m \u001b[32m519.8/519.8 kB\u001b[0m \u001b[31m3.2 MB/s\u001b[0m eta \u001b[36m0:00:00\u001b[0m\n",
            "\u001b[?25hDownloading astroid-3.2.4-py3-none-any.whl (276 kB)\n",
            "\u001b[2K   \u001b[90m━━━━━━━━━━━━━━━━━━━━━━━━━━━━━━━━━━━━━━━━\u001b[0m \u001b[32m276.3/276.3 kB\u001b[0m \u001b[31m10.5 MB/s\u001b[0m eta \u001b[36m0:00:00\u001b[0m\n",
            "\u001b[?25hDownloading dill-0.3.8-py3-none-any.whl (116 kB)\n",
            "\u001b[2K   \u001b[90m━━━━━━━━━━━━━━━━━━━━━━━━━━━━━━━━━━━━━━━━\u001b[0m \u001b[32m116.3/116.3 kB\u001b[0m \u001b[31m5.0 MB/s\u001b[0m eta \u001b[36m0:00:00\u001b[0m\n",
            "\u001b[?25hDownloading isort-5.13.2-py3-none-any.whl (92 kB)\n",
            "\u001b[2K   \u001b[90m━━━━━━━━━━━━━━━━━━━━━━━━━━━━━━━━━━━━━━━━\u001b[0m \u001b[32m92.3/92.3 kB\u001b[0m \u001b[31m3.2 MB/s\u001b[0m eta \u001b[36m0:00:00\u001b[0m\n",
            "\u001b[?25hDownloading mccabe-0.7.0-py2.py3-none-any.whl (7.3 kB)\n",
            "Installing collected packages: mccabe, isort, dill, astroid, pylint\n",
            "Successfully installed astroid-3.2.4 dill-0.3.8 isort-5.13.2 mccabe-0.7.0 pylint-3.2.6\n"
          ]
        }
      ],
      "source": [
        "pip install pylint"
      ]
    },
    {
      "cell_type": "code",
      "execution_count": 2,
      "metadata": {
        "colab": {
          "base_uri": "https://localhost:8080/"
        },
        "id": "ibO29HzY8jmz",
        "outputId": "1316c420-1143-423c-858a-2403fa84afab"
      },
      "outputs": [
        {
          "output_type": "stream",
          "name": "stdout",
          "text": [
            "Mounted at /content/drive\n"
          ]
        }
      ],
      "source": [
        "from google.colab import drive\n",
        "drive.mount('/content/drive')"
      ]
    },
    {
      "cell_type": "code",
      "execution_count": 3,
      "metadata": {
        "colab": {
          "base_uri": "https://localhost:8080/"
        },
        "id": "iE4e3fLS8jm0",
        "outputId": "0c55a8e3-32a3-4187-d729-813279500534"
      },
      "outputs": [
        {
          "output_type": "stream",
          "name": "stdout",
          "text": [
            "/content/drive/.shortcut-targets-by-id/1ZBIUNmu5IYyrq481M6aqTJcm6eNuiLYX/MLOPS_Project/src\n"
          ]
        }
      ],
      "source": [
        "cd /content/drive/MyDrive/MLOPS_Project/src"
      ]
    },
    {
      "cell_type": "code",
      "execution_count": null,
      "metadata": {
        "colab": {
          "base_uri": "https://localhost:8080/"
        },
        "id": "ttgEicHX8jm0",
        "outputId": "ec5b909c-4af3-4bbd-f29d-f807dde54d8f"
      },
      "outputs": [
        {
          "output_type": "stream",
          "name": "stdout",
          "text": [
            "************* Module src.make_model_vgg16\n",
            "make_model_vgg16.py:157:0: C0304: Final newline missing (missing-final-newline)\n",
            "make_model_vgg16.py:12:0: E0401: Unable to import 'eval_metrics' (import-error)\n",
            "make_model_vgg16.py:12:0: C0413: Import \"from eval_metrics import eval_metrics\" should be placed at the top of the module (wrong-import-position)\n",
            "make_model_vgg16.py:15:0: R0913: Too many arguments (7/5) (too-many-arguments)\n",
            "make_model_vgg16.py:15:0: R0914: Too many local variables (22/15) (too-many-locals)\n",
            "make_model_vgg16.py:62:0: R0914: Too many local variables (22/15) (too-many-locals)\n",
            "\n",
            "------------------------------------------------------------------\n",
            "Your code has been rated at 8.96/10 (previous run: 0.00/10, +8.96)\n",
            "\n"
          ]
        }
      ],
      "source": [
        "! pylint make_model_vgg16.py"
      ]
    },
    {
      "cell_type": "code",
      "execution_count": null,
      "metadata": {
        "colab": {
          "base_uri": "https://localhost:8080/"
        },
        "id": "Ez2frAnO8jm1",
        "outputId": "32cb86a4-8482-4a6f-dd70-4677511e2068"
      },
      "outputs": [
        {
          "output_type": "stream",
          "name": "stdout",
          "text": [
            "************* Module src.make_model_mobilenet\n",
            "make_model_mobilenet.py:231:0: C0304: Final newline missing (missing-final-newline)\n",
            "make_model_mobilenet.py:4:0: E0401: Unable to import 'tensorflow.keras.applications' (import-error)\n",
            "make_model_mobilenet.py:5:0: E0401: Unable to import 'tensorflow.keras.callbacks' (import-error)\n",
            "make_model_mobilenet.py:6:0: E0401: Unable to import 'tensorflow.keras.layers' (import-error)\n",
            "make_model_mobilenet.py:7:0: E0401: Unable to import 'tensorflow.keras.losses' (import-error)\n",
            "make_model_mobilenet.py:8:0: E0401: Unable to import 'tensorflow.keras.models' (import-error)\n",
            "make_model_mobilenet.py:9:0: E0401: Unable to import 'tensorflow.keras.optimizers' (import-error)\n",
            "\n",
            "------------------------------------------------------------------\n",
            "Your code has been rated at 6.74/10 (previous run: 3.08/10, +3.66)\n",
            "\n"
          ]
        }
      ],
      "source": [
        "! pylint make_model_mobilenet.py"
      ]
    },
    {
      "cell_type": "code",
      "execution_count": null,
      "metadata": {
        "colab": {
          "base_uri": "https://localhost:8080/"
        },
        "id": "YIsr34ts8jm1",
        "outputId": "21ff9f6e-7767-4b72-f096-74731e1959df"
      },
      "outputs": [
        {
          "output_type": "stream",
          "name": "stdout",
          "text": [
            "************* Module src.make_dataset\n",
            "make_dataset.py:20:0: C0301: Line too long (125/120) (line-too-long)\n",
            "make_dataset.py:85:0: C0301: Line too long (133/120) (line-too-long)\n",
            "make_dataset.py:142:0: C0301: Line too long (135/120) (line-too-long)\n",
            "make_dataset.py:216:0: C0301: Line too long (135/120) (line-too-long)\n",
            "make_dataset.py:223:0: C0301: Line too long (124/120) (line-too-long)\n",
            "make_dataset.py:282:0: C0301: Line too long (125/120) (line-too-long)\n",
            "make_dataset.py:285:0: C0301: Line too long (126/120) (line-too-long)\n",
            "make_dataset.py:288:0: C0301: Line too long (130/120) (line-too-long)\n",
            "make_dataset.py:306:0: C0305: Trailing newlines (trailing-newlines)\n",
            "make_dataset.py:5:0: E0401: Unable to import 'tensorflow.keras.preprocessing.image' (import-error)\n",
            "make_dataset.py:6:0: E0401: Unable to import 'tensorflow.keras.preprocessing.image' (import-error)\n",
            "make_dataset.py:90:8: W0612: Unused variable 'fig' (unused-variable)\n",
            "make_dataset.py:114:8: W0622: Redefining built-in 'dir' (redefined-builtin)\n",
            "make_dataset.py:129:35: W0612: Unused variable 'channels' (unused-variable)\n",
            "make_dataset.py:177:52: W0640: Cell variable class_name defined in loop (cell-var-from-loop)\n",
            "make_dataset.py:198:23: W0718: Catching too general exception Exception (broad-exception-caught)\n",
            "make_dataset.py:183:46: W0640: Cell variable class_dir defined in loop (cell-var-from-loop)\n",
            "make_dataset.py:192:34: W0640: Cell variable class_name defined in loop (cell-var-from-loop)\n",
            "make_dataset.py:198:16: W0612: Unused variable 'e' (unused-variable)\n",
            "make_dataset.py:12:0: C0411: standard import \"os\" should be placed before third party imports \"sklearn.model_selection.train_test_split\", \"tensorflow.keras.preprocessing.image.ImageDataGenerator\", \"tensorflow.keras.preprocessing.image.img_to_array\" (...) \"cv2\", \"matplotlib.pyplot\", \"numpy\" (wrong-import-order)\n",
            "make_dataset.py:13:0: C0411: standard import \"random\" should be placed before third party imports \"sklearn.model_selection.train_test_split\", \"tensorflow.keras.preprocessing.image.ImageDataGenerator\", \"tensorflow.keras.preprocessing.image.img_to_array\" (...) \"cv2\", \"matplotlib.pyplot\", \"numpy\" (wrong-import-order)\n",
            "make_dataset.py:14:0: C0411: standard import \"shutil\" should be placed before third party imports \"sklearn.model_selection.train_test_split\", \"tensorflow.keras.preprocessing.image.ImageDataGenerator\", \"tensorflow.keras.preprocessing.image.img_to_array\" (...) \"cv2\", \"matplotlib.pyplot\", \"numpy\" (wrong-import-order)\n",
            "make_dataset.py:14:0: W0611: Unused import shutil (unused-import)\n",
            "\n",
            "-----------------------------------\n",
            "Your code has been rated at 7.69/10\n",
            "\n"
          ]
        }
      ],
      "source": [
        "! pylint make_dataset.py"
      ]
    },
    {
      "cell_type": "code",
      "source": [
        "! pylint eval_metrics.py"
      ],
      "metadata": {
        "colab": {
          "base_uri": "https://localhost:8080/"
        },
        "id": "9wIOy6BCtrEe",
        "outputId": "b1fe524f-da34-4e8b-c648-83a2bd043ba1"
      },
      "execution_count": 4,
      "outputs": [
        {
          "output_type": "stream",
          "name": "stdout",
          "text": [
            "\n",
            "------------------------------------\n",
            "Your code has been rated at 10.00/10\n",
            "\n"
          ]
        }
      ]
    }
  ],
  "metadata": {
    "language_info": {
      "name": "python"
    },
    "colab": {
      "provenance": []
    },
    "kernelspec": {
      "name": "python3",
      "display_name": "Python 3"
    }
  },
  "nbformat": 4,
  "nbformat_minor": 0
}